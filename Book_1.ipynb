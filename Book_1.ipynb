{
  "nbformat": 4,
  "nbformat_minor": 0,
  "metadata": {
    "colab": {
      "name": "Book-1.ipynb",
      "provenance": [],
      "collapsed_sections": [],
      "authorship_tag": "ABX9TyMdlb3xFCV9oRJkwvPuvjt5",
      "include_colab_link": true
    },
    "kernelspec": {
      "name": "python3",
      "display_name": "Python 3"
    },
    "language_info": {
      "name": "python"
    },
    "accelerator": "GPU",
    "gpuClass": "standard"
  },
  "cells": [
    {
      "cell_type": "markdown",
      "metadata": {
        "id": "view-in-github",
        "colab_type": "text"
      },
      "source": [
        "<a href=\"https://colab.research.google.com/github/nyac-1/twitter-us-airline-kaggle/blob/main/Book_1.ipynb\" target=\"_parent\"><img src=\"https://colab.research.google.com/assets/colab-badge.svg\" alt=\"Open In Colab\"/></a>"
      ]
    },
    {
      "cell_type": "code",
      "execution_count": 1,
      "metadata": {
        "colab": {
          "base_uri": "https://localhost:8080/"
        },
        "id": "1htZbaOSMXT_",
        "outputId": "9a3a73b1-ba55-4ac8-866d-ceb27a73b7fb"
      },
      "outputs": [
        {
          "output_type": "stream",
          "name": "stdout",
          "text": [
            "Mounted at /content/gdrive\n",
            "/content/gdrive/My Drive/Colab Notebooks\n"
          ]
        }
      ],
      "source": [
        "%matplotlib inline\n",
        "\n",
        "from google.colab import drive; drive.mount('/content/gdrive', force_remount=True)\n",
        "%cd '/content/gdrive/My Drive/Colab Notebooks'\n",
        "\n",
        "import pandas as pd\n",
        "import glob"
      ]
    },
    {
      "cell_type": "code",
      "source": [
        "!pip install pdflib"
      ],
      "metadata": {
        "colab": {
          "base_uri": "https://localhost:8080/"
        },
        "id": "mOJVHkg6NP3T",
        "outputId": "f3de3667-3307-4727-a8cc-27496245092d"
      },
      "execution_count": 2,
      "outputs": [
        {
          "output_type": "stream",
          "name": "stdout",
          "text": [
            "Looking in indexes: https://pypi.org/simple, https://us-python.pkg.dev/colab-wheels/public/simple/\n",
            "Collecting pdflib\n",
            "  Downloading pdflib-0.3.0-cp37-cp37m-manylinux2010_x86_64.whl (5.8 MB)\n",
            "\u001b[K     |████████████████████████████████| 5.8 MB 29.6 MB/s \n",
            "\u001b[?25hRequirement already satisfied: lxml in /usr/local/lib/python3.7/dist-packages (from pdflib) (4.2.6)\n",
            "Requirement already satisfied: cython in /usr/local/lib/python3.7/dist-packages (from pdflib) (0.29.30)\n",
            "Requirement already satisfied: six in /usr/local/lib/python3.7/dist-packages (from pdflib) (1.15.0)\n",
            "Installing collected packages: pdflib\n",
            "Successfully installed pdflib-0.3.0\n"
          ]
        }
      ]
    },
    {
      "cell_type": "code",
      "source": [
        "dir='/content/gdrive/My Drive/aem'"
      ],
      "metadata": {
        "id": "za-IoioHNXI9"
      },
      "execution_count": 3,
      "outputs": []
    },
    {
      "cell_type": "code",
      "source": [
        "from pdflib import Document\n",
        "doc = Document(dir+\"/company-announcements?value=AEM%20HOLDINGS%20LTD.&type=company&page=1&pagesize=100.pdf\")\n",
        "\n",
        "for page in doc:\n",
        "  print(' \\n'.join(page.lines).strip())"
      ],
      "metadata": {
        "colab": {
          "base_uri": "https://localhost:8080/"
        },
        "id": "_qUd0XhGNjv5",
        "outputId": "c2f3345b-b093-4d55-df71-df75a2fc128a"
      },
      "execution_count": 4,
      "outputs": [
        {
          "output_type": "stream",
          "name": "stdout",
          "text": [
            "SECURITIES AND FUTURES ACT (CAP. 289) \n",
            "SECURITIES AND FUTURES (DISCLOSURE OF INTERESTS)                                                  FORM \n",
            "REGULATIONS 2012 \n",
            "NOTIFICATION FORM FOR DIRECTOR/CHIEF EXECUTIVE OFFICER                                                          1 \n",
            "(Electronic Format) \n",
            "IN RESPECT OF INTERESTS IN SECURITIES \n",
            "Explanatory Notes \n",
            "1. Please read the explanatory notes carefully before completing this notification form. \n",
            "2. This form is for a Director/Chief Executive Officer (“CEO”) to give notice of his interests in the securities of \n",
            "the Listed Issuer under section 133, 137N or 137Y of the Securities and Futures Act (Cap. 289) (the \n",
            "“SFA”). Please note that the requirement to disclose interests in participatory interests applies only to a \n",
            "director and where the Listed Issuer is a Singapore-incorporated company. \n",
            "3. This electronic Form 1 and a separate Form C, containing the particulars and contact details of the \n",
            "Director/CEO, must be completed by the Director/CEO or a person duly authorised by him to do so. The \n",
            "person so authorised should maintain records of information furnished to him by the Director/CEO. \n",
            "4. This form and Form C, are to be completed electronically and sent to the Listed Issuer via an electronic \n",
            "medium such as an e-mail attachment. The Listed Issuer will attach both forms to the prescribed SGXNet \n",
            "announcement template for dissemination as required under section 137G(1), 137R(1) or 137ZC(1) of the \n",
            "SFA, as the case may be. While Form C will be attached to the announcement template, it will not be \n",
            "disseminated to the public and is made available only to the Monetary Authority of Singapore (the \n",
            "\"Authority\"). \n",
            "5. A single form may be used by a Director/CEO for more than one transaction resulting in notifiable \n",
            "obligations which occur within the same notifiable period (i.e. within two business days of/of becoming \n",
            "aware of, the earliest transaction). There must be no netting-off of two or more notifiable transactions even \n",
            "if they occur within the same day. \n",
            "6. All applicable parts of the notification form must be completed. If there is insufficient space for your \n",
            "answers, please include attachment(s) by clicking on the paper clip icon on the bottom left-hand corner or \n",
            "in item 3 of Part II or item 10 of Part III. The total file size for all attachment(s) should not exceed 1MB. \n",
            "7. Except for item 4 of Part III, please select only one option from the relevant check boxes. \n",
            "8. Please note that submission of any false or misleading information is an offence under Part VII of the SFA. \n",
            "9. In this form, the term “Listed Issuer” refers to – \n",
            "(a) a company incorporated in Singapore any or all of the shares in which are listed for quotation on the \n",
            "official list of a securities exchange; \n",
            "(b) a corporation (not being a company incorporated in Singapore, or a collective investment scheme \n",
            "constituted as a corporation) any or all of the shares in which are listed for quotation on the official list \n",
            "of a securities exchange, such listing being a primary listing; \n",
            "(c) a registered business trust (as defined in the Business Trusts Act (Cap. 31A)) any or all of the units in \n",
            "which are listed for quotation on the official list of a securities exchange; \n",
            "(d) a recognised business trust any or all of the units in which are listed for quotation on the official list of a \n",
            "securities exchange, such listing being a primary listing; or \n",
            "(e) a collective investment scheme that is a trust, that invests primarily in real estate and real estate- \n",
            "related assets specified by the Authority in the Code on Collective Investment Schemes, and any or all \n",
            "the units in which are listed for quotation on the official list of a securities exchange, such listing being a \n",
            "primary listing (“Real Estate Investment Trust”). \n",
            "10. For further instructions and guidance on how to complete this notification form, please refer to section 6 of \n",
            "the User Guide on Electronic Notification Forms which can be accessed at the Authority’s Internet website \n",
            "at http://www.mas.gov.sg (under “Regulations and Financial Stability”, \"Regulations, Guidance and \n",
            "Licensing\", \"Securities, Futures and Fund Management\", \"Forms\", \"Disclosure of Interests\"). \n",
            "Export XML\n",
            "Part I - General \n",
            "1.      Name of Listed Issuer: \n",
            "AEM Holdings Ltd. \n",
            "2.      Type of Listed Issuer: \n",
            "Company/Corporation \n",
            "Registered/Recognised Business Trust \n",
            "Real Estate Investment Trust \n",
            "3.      Name of Director/CEO: \n",
            "James Toh Ban Leng \n",
            "4.      Is the Director/CEO also a substantial shareholder/unitholder of the Listed Issuer? \n",
            "Yes \n",
            "No \n",
            "5.      Is the Director/CEO notifying in respect of his interests in securities of, or made available by, \n",
            "the Listed Issuer at the time of his appointment? \n",
            "Yes (Please proceed to complete Part II) \n",
            "No      (Please proceed to complete Part III) \n",
            "6.      Date of notification to Listed Issuer: \n",
            "16-May-2021 \n",
            "FORM 1/[ Version 2.0 ]/Effective Date [ 21 March 2014 ]                                                     Page 2 of 6\n",
            "Part III - For an incumbent Director/CEO giving notice of an acquisition of, or \n",
            "a change in his interest in, securities of or made available by the Listed Issuer \n",
            "Transaction A \n",
            "1.      Date of acquisition of or change in interest: \n",
            "14-May-2021 \n",
            "2.      Date on which Director/CEO became aware of the acquisition of, or change in, interest \n",
            "(if different from item 1 above, please specify the date): \n",
            "14-May-2021 \n",
            "3.      Explanation (if the date of becoming aware is different from the date of acquisition of, or change \n",
            "in, interest): \n",
            "4.      Type of securities which are the subject of the transaction (more than one option may be \n",
            "chosen): \n",
            "Ordinary voting shares/units of Listed Issuer \n",
            "Other types of shares/units (excluding ordinary voting shares/units) of Listed Issuer \n",
            "Rights/Options/Warrants over shares/units of Listed Issuer \n",
            "Debentures of Listed Issuer \n",
            "Rights/Options over debentures of Listed Issuer \n",
            "Contracts over shares of the Listed Issuer which Director/CEO is a party to, or under which he is \n",
            "entitled to a benefit, being contracts under which any person has a right to call for or to make \n",
            "delivery of shares in the Listed Issuer \n",
            "Participatory interests made available by Listed Issuer \n",
            "Others (please specify): \n",
            "5.      Number of shares, units, rights, options, warrants, participatory interests and/or principal \n",
            "amount/value of debentures or contracts acquired or disposed of by Director/CEO: \n",
            "100,000 \n",
            "6.      Amount of consideration paid or received by Director/CEO (excluding brokerage and stamp \n",
            "duties): \n",
            "S$335,000 \n",
            "FORM 1/[ Version 2.0 ]/Effective Date [ 21 March 2014 ]                                                            Page 3 of 6\n",
            "7.      Circumstance giving rise to the interest or change in interest: \n",
            "Acquisition of: \n",
            "Securities via market transaction \n",
            "Securities via off-market transaction (e.g. married deals) \n",
            "Securities via physical settlement of derivatives or other securities \n",
            "Securities pursuant to rights issue \n",
            "Securities via a placement \n",
            "Securities following conversion/exercise of rights, options, warrants or other convertibles \n",
            "Disposal of: \n",
            "Securities via market transaction \n",
            "Securities via off-market transaction (e.g. married deals) \n",
            "Other circumstances : \n",
            "Acceptance of employee share options/share awards \n",
            "Vesting of share awards \n",
            "Exercise of employee share options \n",
            "Acceptance of take-over offer for Listed Issuer \n",
            "Corporate action by Listed Issuer (please specify): \n",
            "Others (please specify): \n",
            "8.      Quantum of interests in securities held by Director/CEO before and after the transaction. \n",
            "Please complete relevant table(s) below (for example, Table 1 should be completed if the change relates to \n",
            "ordinary voting shares of the Listed Issuer; Table 4 should be completed if the change relates to debentures): \n",
            "Table 1. Change in respect of ordinary voting shares/units of Listed Issuer \n",
            "Immediately before the transaction              Direct Interest   Deemed Interest                 Total \n",
            "12,225,020          2,196,772               14,421,792 \n",
            "No. of ordinary voting shares/units held: \n",
            "4.349               0.781                   5.13 \n",
            "As a percentage of total no. of ordinary \n",
            "voting shares/units: \n",
            "Immediately after the transaction              Direct Interest   Deemed Interest                 Total \n",
            "12,325,020          2,196,772               14,521,792 \n",
            "No. of ordinary voting shares/units held: \n",
            "FORM 1/[ Version 2.0 ]/Effective Date [ 21 March 2014 ]                                                                    Page 4 of 6\n",
            "4.385                0.781         5.166 \n",
            "As a percentage of total no. of ordinary \n",
            "voting shares/units: \n",
            "9.      Circumstances giving rise to deemed interests (if the interest is such): \n",
            "[You may attach a chart(s) in item 10 to illustrate how the Director/CEO's deemed interest, as \n",
            "set out in item 8 tables 1 to 8, arises] \n",
            "The deemed interest arises as Mr. James Toh is a shareholder of A.C.T. Holdings Pte Ltd. \n",
            "10.     Attachments (if any): \n",
            "(The total file size for all attachment(s) should not exceed 1MB.) \n",
            "11.     If this is a replacement of an earlier notification, please provide: \n",
            "(a)      SGXNet announcement reference of the first notification which was announced on SGXNet \n",
            "(the \"Initial Announcement\"): \n",
            "(b)      Date of the Initial Announcement: \n",
            "(c)      15-digit transaction reference number of the relevant transaction in the Form 1 which was \n",
            "attached in the Initial Announcement: \n",
            "12.     Remarks (if any): \n",
            "Transaction Reference Number (auto-generated): \n",
            "5 4 6 6 9 2 3 4 4 3 4 4 4 6 2 \n",
            "Item 13 is to be completed by an individual submitting this notification form on behalf of the Director/CEO. \n",
            "13.     Particulars of Individual submitting this notification form to the Listed Issuer: \n",
            "(a)      Name of Individual: \n",
            "Leong Sook Han \n",
            "(b)      Designation (if applicable): \n",
            "FORM 1/[ Version 2.0 ]/Effective Date [ 21 March 2014 ]                                                             Page 5 of 6\n",
            "Joint Company Secretary \n",
            "(c)     Name of entity (if applicable): \n",
            "AEM Holdings Ltd. \n",
            "FORM 1/[ Version 2.0 ]/Effective Date [ 21 March 2014 ] Page 6 of 6\n"
          ]
        }
      ]
    },
    {
      "cell_type": "code",
      "source": [
        "pdfs = glob.glob(dir+'/*.pdf')\n",
        "pdfs[:5]"
      ],
      "metadata": {
        "colab": {
          "base_uri": "https://localhost:8080/"
        },
        "id": "7ylJjbvuNrvM",
        "outputId": "e3ffc308-c394-4c26-95b3-549cf69e1679"
      },
      "execution_count": 5,
      "outputs": [
        {
          "output_type": "execute_result",
          "data": {
            "text/plain": [
              "['/content/gdrive/My Drive/aem/company-announcements?value=AEM%20HOLDINGS%20LTD.&type=company&page=1&pagesize=100.pdf',\n",
              " '/content/gdrive/My Drive/aem/company-announcements?value=AEM%20HOLDINGS%20LTD.&type=company&page=2&pagesize=100.pdf',\n",
              " '/content/gdrive/My Drive/aem/720954_AEM to Create Over 300 Additional Jobs with the Expansion of its Singapore Malaysian and US Operations.pdf',\n",
              " '/content/gdrive/My Drive/aem/720611_FORM3 - EPF.pdf',\n",
              " '/content/gdrive/My Drive/aem/720612__FORM3 - EPF.pdf']"
            ]
          },
          "metadata": {},
          "execution_count": 5
        }
      ]
    },
    {
      "cell_type": "code",
      "source": [
        "#sentiment analysis"
      ],
      "metadata": {
        "id": "Bk6e6xM8NsI3"
      },
      "execution_count": 6,
      "outputs": []
    },
    {
      "cell_type": "code",
      "source": [
        "!pip install transformers"
      ],
      "metadata": {
        "colab": {
          "base_uri": "https://localhost:8080/"
        },
        "id": "R6i0KHUuN1u-",
        "outputId": "27bc7ac1-fbd7-4c19-f2fd-c01243eea09c"
      },
      "execution_count": 7,
      "outputs": [
        {
          "output_type": "stream",
          "name": "stdout",
          "text": [
            "Looking in indexes: https://pypi.org/simple, https://us-python.pkg.dev/colab-wheels/public/simple/\n",
            "Collecting transformers\n",
            "  Downloading transformers-4.20.0-py3-none-any.whl (4.4 MB)\n",
            "\u001b[K     |████████████████████████████████| 4.4 MB 33.0 MB/s \n",
            "\u001b[?25hCollecting tokenizers!=0.11.3,<0.13,>=0.11.1\n",
            "  Downloading tokenizers-0.12.1-cp37-cp37m-manylinux_2_12_x86_64.manylinux2010_x86_64.whl (6.6 MB)\n",
            "\u001b[K     |████████████████████████████████| 6.6 MB 50.4 MB/s \n",
            "\u001b[?25hRequirement already satisfied: numpy>=1.17 in /usr/local/lib/python3.7/dist-packages (from transformers) (1.21.6)\n",
            "Collecting pyyaml>=5.1\n",
            "  Downloading PyYAML-6.0-cp37-cp37m-manylinux_2_5_x86_64.manylinux1_x86_64.manylinux_2_12_x86_64.manylinux2010_x86_64.whl (596 kB)\n",
            "\u001b[K     |████████████████████████████████| 596 kB 72.9 MB/s \n",
            "\u001b[?25hRequirement already satisfied: requests in /usr/local/lib/python3.7/dist-packages (from transformers) (2.23.0)\n",
            "Collecting huggingface-hub<1.0,>=0.1.0\n",
            "  Downloading huggingface_hub-0.7.0-py3-none-any.whl (86 kB)\n",
            "\u001b[K     |████████████████████████████████| 86 kB 5.3 MB/s \n",
            "\u001b[?25hRequirement already satisfied: packaging>=20.0 in /usr/local/lib/python3.7/dist-packages (from transformers) (21.3)\n",
            "Requirement already satisfied: tqdm>=4.27 in /usr/local/lib/python3.7/dist-packages (from transformers) (4.64.0)\n",
            "Requirement already satisfied: importlib-metadata in /usr/local/lib/python3.7/dist-packages (from transformers) (4.11.4)\n",
            "Requirement already satisfied: regex!=2019.12.17 in /usr/local/lib/python3.7/dist-packages (from transformers) (2022.6.2)\n",
            "Requirement already satisfied: filelock in /usr/local/lib/python3.7/dist-packages (from transformers) (3.7.1)\n",
            "Requirement already satisfied: typing-extensions>=3.7.4.3 in /usr/local/lib/python3.7/dist-packages (from huggingface-hub<1.0,>=0.1.0->transformers) (4.1.1)\n",
            "Requirement already satisfied: pyparsing!=3.0.5,>=2.0.2 in /usr/local/lib/python3.7/dist-packages (from packaging>=20.0->transformers) (3.0.9)\n",
            "Requirement already satisfied: zipp>=0.5 in /usr/local/lib/python3.7/dist-packages (from importlib-metadata->transformers) (3.8.0)\n",
            "Requirement already satisfied: chardet<4,>=3.0.2 in /usr/local/lib/python3.7/dist-packages (from requests->transformers) (3.0.4)\n",
            "Requirement already satisfied: certifi>=2017.4.17 in /usr/local/lib/python3.7/dist-packages (from requests->transformers) (2022.6.15)\n",
            "Requirement already satisfied: idna<3,>=2.5 in /usr/local/lib/python3.7/dist-packages (from requests->transformers) (2.10)\n",
            "Requirement already satisfied: urllib3!=1.25.0,!=1.25.1,<1.26,>=1.21.1 in /usr/local/lib/python3.7/dist-packages (from requests->transformers) (1.24.3)\n",
            "Installing collected packages: pyyaml, tokenizers, huggingface-hub, transformers\n",
            "  Attempting uninstall: pyyaml\n",
            "    Found existing installation: PyYAML 3.13\n",
            "    Uninstalling PyYAML-3.13:\n",
            "      Successfully uninstalled PyYAML-3.13\n",
            "Successfully installed huggingface-hub-0.7.0 pyyaml-6.0 tokenizers-0.12.1 transformers-4.20.0\n"
          ]
        }
      ]
    },
    {
      "cell_type": "code",
      "source": [
        "from transformers import BertTokenizer, BertForSequenceClassification\n",
        "import torch\n",
        "from transformers import pipeline"
      ],
      "metadata": {
        "id": "K5ATRFSiy3dP"
      },
      "execution_count": 22,
      "outputs": []
    },
    {
      "cell_type": "code",
      "source": [
        "finbert = BertForSequenceClassification.from_pretrained('yiyanghkust/finbert-tone',num_labels=3)\n",
        "tokenizer = BertTokenizer.from_pretrained('yiyanghkust/finbert-tone')\n",
        "nlp = pipeline(\"sentiment-analysis\", model=finbert, tokenizer=tokenizer)"
      ],
      "metadata": {
        "id": "nDTBrYmwzsv5"
      },
      "execution_count": 23,
      "outputs": []
    },
    {
      "cell_type": "code",
      "source": [
        "label_list=['neutral','positive','negative']"
      ],
      "metadata": {
        "id": "xRzMpmnRz0US"
      },
      "execution_count": 45,
      "outputs": []
    },
    {
      "cell_type": "code",
      "source": [
        "inputs = tokenizer(\"growth is hindered\", return_tensors=\"pt\")\n",
        "outputs = finbert(**inputs)\n",
        "label_list[torch.argmax(outputs[0])]"
      ],
      "metadata": {
        "colab": {
          "base_uri": "https://localhost:8080/",
          "height": 35
        },
        "id": "-KMBd2v61urY",
        "outputId": "a003756c-fe8e-4eb4-de89-064b73654b3e"
      },
      "execution_count": 48,
      "outputs": [
        {
          "output_type": "execute_result",
          "data": {
            "text/plain": [
              "'negative'"
            ],
            "application/vnd.google.colaboratory.intrinsic+json": {
              "type": "string"
            }
          },
          "metadata": {},
          "execution_count": 48
        }
      ]
    },
    {
      "cell_type": "code",
      "source": [
        "outputs[0]"
      ],
      "metadata": {
        "colab": {
          "base_uri": "https://localhost:8080/"
        },
        "id": "pzYDVQvJ4hhA",
        "outputId": "ce6a8038-9ef9-40e2-838d-de306f5f2beb"
      },
      "execution_count": 49,
      "outputs": [
        {
          "output_type": "execute_result",
          "data": {
            "text/plain": [
              "tensor([[-3.5164, -3.6523, 11.3843]], grad_fn=<AddmmBackward0>)"
            ]
          },
          "metadata": {},
          "execution_count": 49
        }
      ]
    },
    {
      "cell_type": "code",
      "source": [
        "sentences = [\"there is a shortage of capital, and we need extra financing\",  \n",
        "             \"growth is strong and we have plenty of liquidity\", \n",
        "             \"there are doubts about our finances\", \n",
        "             \"profits are flat\",\n",
        "             \"growth is hindered\"]\n",
        "results = nlp(sentences)\n",
        "print(results)"
      ],
      "metadata": {
        "colab": {
          "base_uri": "https://localhost:8080/"
        },
        "id": "XQ1ErVN81xoT",
        "outputId": "6d23d0e3-8577-4924-a2a6-f0e1c78e4655"
      },
      "execution_count": 27,
      "outputs": [
        {
          "output_type": "stream",
          "name": "stdout",
          "text": [
            "[{'label': 'Negative', 'score': 0.9966173768043518}, {'label': 'Positive', 'score': 1.0}, {'label': 'Negative', 'score': 0.9999710321426392}, {'label': 'Neutral', 'score': 0.9889442920684814}, {'label': 'Negative', 'score': 0.9999994039535522}]\n"
          ]
        }
      ]
    },
    {
      "cell_type": "code",
      "source": [
        ""
      ],
      "metadata": {
        "id": "aodRG-7k3bnk"
      },
      "execution_count": null,
      "outputs": []
    }
  ]
}